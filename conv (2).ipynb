{
  "nbformat": 4,
  "nbformat_minor": 0,
  "metadata": {
    "colab": {
      "provenance": []
    },
    "kernelspec": {
      "name": "python3",
      "display_name": "Python 3"
    },
    "language_info": {
      "name": "python"
    }
  },
  "cells": [
    {
      "cell_type": "code",
      "execution_count": null,
      "metadata": {
        "id": "GDkNj1kQeauq"
      },
      "outputs": [],
      "source": [
        "import numpy as np\n"
      ]
    },
    {
      "cell_type": "code",
      "source": [
        "# A basic code for matrix input from user\n",
        " \n",
        "R = int(input(\"Enter the number of rows:\"))\n",
        "C = int(input(\"Enter the number of columns:\"))\n",
        " \n",
        "# Initialize matrix\n",
        "Conv = []\n",
        "print(\"Enter the entries rowwise:\")\n",
        " \n",
        "# For user input\n",
        "for i in range(R):          # A for loop for row entries6\n",
        "    a =[]\n",
        "    for j in range(C):      # A for loop for column entries\n",
        "         a.append(int(input()))\n",
        "    Conv.append(a)\n",
        " \n",
        "# For printing the Conv\n",
        "for i in range(R):\n",
        "    for j in range(C):\n",
        "        print(Conv[i][j], end = \" \")\n",
        "    print()\n"
      ],
      "metadata": {
        "id": "bFk5K5DbAqmK"
      },
      "execution_count": null,
      "outputs": []
    },
    {
      "cell_type": "code",
      "source": [
        "# A basic code for matrix input from user\n",
        " \n",
        "R = int(input(\"Enter the number of rows:\"))\n",
        "C = int(input(\"Enter the number of columns:\"))\n",
        " \n",
        "# Initialize matrix\n",
        "kernel = []\n",
        "print(\"Enter the entries rowwise:\")\n",
        " \n",
        "# For user input\n",
        "for i in range(R):          # A for loop for row entries\n",
        "    a =[]\n",
        "    for j in range(C):      # A for loop for column entries\n",
        "         a.append(int(input()))\n",
        "    kernel.append(a)\n",
        " \n",
        "# For printing the matrix\n",
        "for i in range(R):\n",
        "    for j in range(C):\n",
        "        print(kernel[i][j], end = \" \")\n",
        "    print()"
      ],
      "metadata": {
        "id": "n16gh1-RRYZt"
      },
      "execution_count": null,
      "outputs": []
    },
    {
      "cell_type": "code",
      "source": [
        "(kernel*(Conv[0:2, 0:2])).sum()"
      ],
      "metadata": {
        "id": "ZKcfDxVjBR9v"
      },
      "execution_count": null,
      "outputs": []
    },
    {
      "cell_type": "code",
      "source": [
        "(kernel*(Conv[0:2, 1:3])).sum()"
      ],
      "metadata": {
        "id": "sFj2odquBSX9"
      },
      "execution_count": null,
      "outputs": []
    },
    {
      "cell_type": "code",
      "source": [
        "(kernel*(Conv[1:3, 0:2])).sum()"
      ],
      "metadata": {
        "id": "x3o17c3JBTDv"
      },
      "execution_count": null,
      "outputs": []
    },
    {
      "cell_type": "code",
      "source": [
        "(kernel*(Conv[1:3, 1:3])).sum()"
      ],
      "metadata": {
        "id": "_9vGtnlxB7LO"
      },
      "execution_count": null,
      "outputs": []
    }
  ]
}